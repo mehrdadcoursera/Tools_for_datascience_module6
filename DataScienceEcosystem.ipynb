{
 "cells": [
  {
   "cell_type": "markdown",
   "id": "6eeb8279-5f0d-471e-800a-1aabf7ff9ccd",
   "metadata": {},
   "source": [
    "# Data Science Tools and Ecosystem"
   ]
  },
  {
   "cell_type": "markdown",
   "id": "9b7c83f8-b13a-445b-a325-31e160e7ec3f",
   "metadata": {},
   "source": [
    "In this notebook, Data Science Tools and Ecosystem are summarized."
   ]
  },
  {
   "cell_type": "markdown",
   "id": "796500e4-4bb2-400e-9236-067671265d66",
   "metadata": {},
   "source": [
    "Some of the popular languages that Data Scientists use are:\n",
    "1. Python\n",
    "2. SQL\n",
    "3. R"
   ]
  },
  {
   "cell_type": "markdown",
   "id": "87ff2da4-f785-45e1-909a-7b2f1e37934c",
   "metadata": {},
   "source": [
    "Some of the commonly used libraries used by Data Scientists include:\n",
    "1. Scikit Learn\n",
    "2. Matplotlib\n",
    "3. Pandas"
   ]
  },
  {
   "attachments": {},
   "cell_type": "markdown",
   "id": "a78a9ca1-d0f6-49b2-bcfd-13363e9c7038",
   "metadata": {},
   "source": [
    "|Data Science Tools|\n",
    "|------------------|\n",
    "|Jupyter Notebook  |\n",
    "|Rstudio           |\n",
    "|Visual Studio     |"
   ]
  },
  {
   "cell_type": "markdown",
   "id": "fd0b2d13-8654-43db-a3fb-a7ee9168357d",
   "metadata": {},
   "source": [
    "### Below are a few examples of evaluating arithmetic expressions in Python."
   ]
  },
  {
   "cell_type": "code",
   "execution_count": 2,
   "id": "2f5e6707-6500-45cc-8b6b-8e1e37df60e9",
   "metadata": {},
   "outputs": [
    {
     "data": {
      "text/plain": [
       "17"
      ]
     },
     "execution_count": 2,
     "metadata": {},
     "output_type": "execute_result"
    }
   ],
   "source": [
    "# This a simple arithmetic expression to mutiply then add integers\n",
    "(3*4)+5"
   ]
  },
  {
   "cell_type": "code",
   "execution_count": 3,
   "id": "b5829127-b3f9-46ef-bd56-995e7cb29a45",
   "metadata": {},
   "outputs": [
    {
     "data": {
      "text/plain": [
       "3.3333333333333335"
      ]
     },
     "execution_count": 3,
     "metadata": {},
     "output_type": "execute_result"
    }
   ],
   "source": [
    "# This will convert 200 minutes to hours by diving by 60\n",
    "200/60"
   ]
  },
  {
   "cell_type": "markdown",
   "id": "1544870b-06a2-42a3-8612-0d4765ac1ebc",
   "metadata": {},
   "source": [
    "__Objectives:__\n",
    "- Popular languages for data science\n",
    "- Common libraries for data science\n",
    "- Popular data science tools"
   ]
  },
  {
   "cell_type": "markdown",
   "id": "9e383d94-8b4f-49de-bb1d-f455a7a07e2a",
   "metadata": {},
   "source": [
    "## Author\n",
    "Mehrdad Hassanzadeh"
   ]
  }
 ],
 "metadata": {
  "kernelspec": {
   "display_name": "Python 3 (ipykernel)",
   "language": "python",
   "name": "python3"
  },
  "language_info": {
   "codemirror_mode": {
    "name": "ipython",
    "version": 3
   },
   "file_extension": ".py",
   "mimetype": "text/x-python",
   "name": "python",
   "nbconvert_exporter": "python",
   "pygments_lexer": "ipython3",
   "version": "3.10.12"
  }
 },
 "nbformat": 4,
 "nbformat_minor": 5
}
